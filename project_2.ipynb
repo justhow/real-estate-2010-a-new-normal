{
 "cells": [
  {
   "cell_type": "markdown",
   "metadata": {},
   "source": [
    "# Problem Statement"
   ]
  },
  {
   "cell_type": "markdown",
   "metadata": {},
   "source": [
    "In these uncertain times (2010) in the wake of the housing bubble bursting, it is more important than ever to find reliable price predictions for our properties.  Predictors we have relied on in the past may no longer hold true, as the market panic changes purchasing habits.  \n",
    "\n",
    "In order to best serve our interests, I will design a predictive model based on the most current data, utilizing the power of machine learning to predict sale prices with the greatest precision possible.  Furthermore, I will identify 'human-readable' elements our agents can use in the field, as key points for emphasis and upselling."
   ]
  },
  {
   "cell_type": "markdown",
   "metadata": {},
   "source": [
    "# Table of Contents"
   ]
  },
  {
   "cell_type": "markdown",
   "metadata": {},
   "source": [
    "- [Problem Statement](#Problem-Statement)\n",
    "- [Table of Contents](#Table-of-Contents)\n",
    "- [Data Dictionary](#Data-Dictionary)\n",
    "- [Imports and Data Cleaning](#Imports-and-Data-Cleaning)\n",
    "- [EDA and Data Preparation](#EDA-and-Data-Preparation)\n",
    "- [Modeling Preparation](#Modeling-Preparation)\n",
    "- [Modeling](#Modeling)\n",
    "- [Model Results](#Model-Results)\n",
    "- [Conclusions and Recommendations](#Conclusions-and-Recommendations)\n",
    "- [Kaggle Submission](#Kaggle-Submission)"
   ]
  },
  {
   "cell_type": "markdown",
   "metadata": {},
   "source": [
    "# Data Dictionary"
   ]
  },
  {
   "cell_type": "markdown",
   "metadata": {},
   "source": [
    "| name | type | description |\n",
    "| - | - | - |\n",
    "Id  | integer | Identifying number\n",
    "Lot Frontage  | float | Linear feet of street connected to property\n",
    "Lot Area  | integer | Lot size in square feet\n",
    "Overall Qual  | integer | Overall material and finish quality on a scale of 1-10\n",
    "Year Built  | integer | Original construction date\n",
    "Year Remod/Add  | integer | Remodel date (same as construction date if no remodeling or additions)\n",
    "Mas Vnr Area  | float | Masonry veneer area in square feet\n",
    "Exter Cond  | integer | Present condition of the material on the exterior\n",
    "Heating QC  | integer | Heating quality and condition\n",
    "Gr Liv Area  | integer | Above grade (ground) living area square feet\n",
    "Bsmt Full Bath  | float | Basement full bathrooms\n",
    "Bsmt Half Bath  | float | Basement halfbathrooms\n",
    "Full Bath  | integer | Full bathrooms above grade\n",
    "Half Bath  | integer | Half bathrooms above grade\n",
    "Kitchen Qual  | integer | Kitchen quality\n",
    "TotRms AbvGrd  | integer | Total rooms above grade (does not include bathrooms)\n",
    "Fireplaces  | integer | Number of fireplaces\n",
    "Garage Cars  | float | Size of garage in car capacity\n",
    "Garage Area  | float | Size of garage in square feet\n",
    "Mo Sold  | integer | Month sold\n",
    "Yr Sold  | integer | Year sold\n",
    "SalePrice  | integer | The property's actual sale price in dollars [target variable]\n",
    "| --- | --- | --- |\n",
    "Lot Shape_IR  | integer | General shape of property = Slightly irregular\n",
    "Lot Shape_IR3  | integer | General shape of property = Irregular\n",
    "Lot Shape_Reg  | integer | General shape of property = Regular\n",
    "| --- | --- | --- |\n",
    "Land Contour_HLS  | integer | Flatness of the property = Hillside - Significant slope from side to side\n",
    "Land Contour_Low  | integer | Flatness of the property = Depression\n",
    "Land Contour_Lvl  | integer | Flatness of the property = Near Flat/Level\n",
    "| --- | --- | --- |\n",
    "Lot Config_CulDSac  | integer | Lot configuration = Cul-de-sac\n",
    "Lot Config_FR2  | integer | Lot configuration = Frontage on 2 sides of property\n",
    "Lot Config_FR3  | integer | Lot configuration = Frontage on 3 sides of property\n",
    "Lot Config_Inside  | integer | Lot configuration = Inside lot\n",
    "| --- | --- | --- |\n",
    "Neighborhood_Blueste  | integer | Physical location within Ames city limits = Bluestem\n",
    "Neighborhood_BrDale  | integer | Physical location within Ames city limits = Briardale\n",
    "Neighborhood_BrkSide  | integer | Physical location within Ames city limits = Brookside\n",
    "Neighborhood_ClearCr  | integer | Physical location within Ames city limits = Clear Creek\n",
    "Neighborhood_CollgCr  | integer | Physical location within Ames city limits = CollegeCreek\n",
    "Neighborhood_Crawfor  | integer | Physical location within Ames city limits = Crawford\n",
    "Neighborhood_Edwards  | integer | Physical location within Ames city limits = Edwards\n",
    "Neighborhood_Gilbert  | integer | Physical location within Ames city limits = Gilbert\n",
    "Neighborhood_Greens  | integer | Physical location within Ames city limits = Greens\n",
    "Neighborhood_GrnHill  | integer | Physical location within Ames city limits = Green Hills\n",
    "Neighborhood_IDOTRR  | integer | Physical location within Ames city limits = Iowa DOT and Rail Road\n",
    "Neighborhood_Landmrk  | integer | Physical location within Ames city limits = Landmark\n",
    "Neighborhood_MeadowV  | integer | Physical location within Ames city limits = Meadow Village\n",
    "Neighborhood_Mitchel  | integer | Physical location within Ames city limits = Mitchell\n",
    "Neighborhood_NAmes  | integer | Physical location within Ames city limits = North Ames\n",
    "Neighborhood_NPkVill  | integer | Physical location within Ames city limits = Northpark Villa\n",
    "Neighborhood_NWAmes  | integer | Physical location within Ames city limits = Northwest Ames\n",
    "Neighborhood_NoRidge  | integer | Physical location within Ames city limits = Northridge\n",
    "Neighborhood_NridgHt  | integer | Physical location within Ames city limits = Northridge Heights\n",
    "Neighborhood_OldTown  | integer | Physical location within Ames city limits = Old Town\n",
    "Neighborhood_SWISU  | integer | Physical location within Ames city limits = South & West of Iowa State University\n",
    "Neighborhood_Sawyer  | integer | Physical location within Ames city limits = Sawyer\n",
    "Neighborhood_SawyerW  | integer | Physical location within Ames city limits = Sawyer West\n",
    "Neighborhood_Somerst  | integer | Physical location within Ames city limits = Somerset\n",
    "Neighborhood_StoneBr  | integer | Physical location within Ames city limits = Stone Brook\n",
    "Neighborhood_Timber  | integer | Physical location within Ames city limits = Timberland\n",
    "Neighborhood_Veenker  | integer | Physical location within Ames city limits = Veenker\n",
    "| --- | --- | --- |\n",
    "Bldg Type_2fmCon  | integer | Type of dwelling = Two-family Conversion; originally built as one-family dwelling\n",
    "Bldg Type_Duplex  | integer | Type of dwelling = Duplex\n",
    "Bldg Type_Twnhs  | integer | Type of dwelling = Townhouse Inside Unit\n",
    "Bldg Type_TwnhsE  | integer | Type of dwelling = Townhouse End Unit\n",
    "| --- | --- | --- |\n",
    "House Style_1.5Unf  | integer | Style of dwelling = One and one-half story: 2nd level unfinished\n",
    "House Style_1Story  | integer | Style of dwelling = One story\n",
    "House Style_2.5Fin  | integer | Style of dwelling = Two and one-half story: 2nd level finished\n",
    "House Style_2.5Unf  | integer | Style of dwelling = Two and one-half story: 2nd level unfinished\n",
    "House Style_2Story  | integer | Style of dwelling = Two story\n",
    "House Style_SFoyer  | integer | Style of dwelling = Split Foyer\n",
    "House Style_SLvl  | integer | Style of dwelling = Split Level\n",
    "| --- | --- | --- |\n",
    "Exterior 1st_AsphShn  | integer | Exterior covering on house = Asphalt Shingles\n",
    "Exterior 1st_BrkComm  | integer | Exterior covering on house = Brick Common\n",
    "Exterior 1st_BrkFace  | integer | Exterior covering on house = Brick Face\n",
    "Exterior 1st_CBlock  | integer | Exterior covering on house = Cinder Block\n",
    "Exterior 1st_CemntBd  | integer | Exterior covering on house = Cement Board\n",
    "Exterior 1st_HdBoard  | integer | Exterior covering on house = Hard Board\n",
    "Exterior 1st_ImStucc  | integer | Exterior covering on house = Imitation Stucco\n",
    "Exterior 1st_MetalSd  | integer | Exterior covering on house = Metal Siding\n",
    "Exterior 1st_Plywood  | integer | Exterior covering on house = Plywood\n",
    "Exterior 1st_Stone  | integer | Exterior covering on house = Stone\n",
    "Exterior 1st_Stucco  | integer | Exterior covering on house = Stucco\n",
    "Exterior 1st_VinylSd  | integer | Exterior covering on house = Vinyl Siding\n",
    "Exterior 1st_Wd Sdng  | integer | Exterior covering on house = Wood Siding\n",
    "Exterior 1st_WdShing  | integer | Exterior covering on house = Wood Shingles\n",
    "| --- | --- | --- |\n",
    "Exterior 2nd_AsphShn  | integer | Additional exterior covering on house = Asphalt Shingles\n",
    "Exterior 2nd_Brk Cmn  | integer | Additional exterior covering on house = Brick Common\n",
    "Exterior 2nd_BrkFace  | integer | Additional exterior covering on house = Brick Face\n",
    "Exterior 2nd_CBlock  | integer | Additional exterior covering on house = Cinder Block\n",
    "Exterior 2nd_CmentBd  | integer | Additional exterior covering on house = Cement Board\n",
    "Exterior 2nd_HdBoard  | integer | Additional exterior covering on house = Hard Board\n",
    "Exterior 2nd_ImStucc  | integer | Additional exterior covering on house = Imitation Stucco\n",
    "Exterior 2nd_MetalSd  | integer | Additional exterior covering on house = Metal Siding\n",
    "Exterior 2nd_Plywood  | integer | Additional exterior covering on house = Plywood\n",
    "Exterior 2nd_Stone  | integer | Additional exterior covering on house = Stone\n",
    "Exterior 2nd_Stucco  | integer | Additional exterior covering on house = Stucco\n",
    "Exterior 2nd_VinylSd  | integer | Additional exterior covering on house = Vinyl Siding\n",
    "Exterior 2nd_Wd Sdng  | integer | Additional exterior covering on house = Wood Siding\n",
    "Exterior 2nd_Wd Shng  | integer | Additional exterior covering on house = Wood Shingles\n",
    "| --- | --- | --- |\n",
    "Mas Vnr Type_BrkFace  | integer | Masonry veneer type = Brick Face\n",
    "Mas Vnr Type_None  | integer | Masonry veneer type = None\n",
    "Mas Vnr Type_Stone  | integer | Masonry veneer type = Stone\n",
    "| --- | --- | --- |\n",
    "Foundation_CBlock  | integer | Type of foundation = Cinder Block\n",
    "Foundation_PConc  | integer | Type of foundation = Poured Concrete\n",
    "Foundation_Slab  | integer | Type of foundation = Slab\n",
    "Foundation_Stone  | integer | Type of foundation = Stone\n",
    "Foundation_Wood  | integer | Type of foundation = Wood\n",
    "| --- | --- | --- |\n",
    "Central Air_Y  | integer | Central air conditioning\n",
    "| --- | --- | --- |\n",
    "Paved Drive_P  | integer | Paved driveway = Partial\n",
    "Paved Drive_Y  | integer | Paved driveway = Paved\n",
    "| --- | --- | --- |\n",
    "Sale Type_CWD  | integer | Type of sale = Warranty Deed - Cash\n",
    "Sale Type_Con  | integer | Type of sale = Contract 15% Down payment regular terms\n",
    "Sale Type_ConLD  | integer | Type of sale = Contract Low Down\n",
    "Sale Type_ConLI  | integer | Type of sale = Contract Low Interest\n",
    "Sale Type_ConLw  | integer | Type of sale = Contract Low Down payment and low interest\n",
    "Sale Type_New  | integer | Type of sale = New Home just constructed and sold\n",
    "Sale Type_Oth  | integer | Type of sale = Other\n",
    "Sale Type_WD  | integer | Type of sale = Warranty Deed - Conventional"
   ]
  },
  {
   "cell_type": "markdown",
   "metadata": {},
   "source": [
    "# Imports and Data Cleaning"
   ]
  },
  {
   "cell_type": "code",
   "execution_count": null,
   "metadata": {
    "ExecuteTime": {
     "end_time": "2021-01-15T19:56:44.815760Z",
     "start_time": "2021-01-15T19:56:42.739135Z"
    }
   },
   "outputs": [],
   "source": [
    "import pandas as pd, numpy as np, matplotlib.pyplot as plt, seaborn as sns\n",
    "\n",
    "from sklearn.linear_model import LinearRegression\n",
    "from sklearn.metrics import mean_squared_error\n",
    "from sklearn.model_selection import train_test_split, cross_val_score\n",
    "\n",
    "pd.set_option('display.max_rows', None)\n",
    "pd.set_option('display.max_columns', None)"
   ]
  },
  {
   "cell_type": "code",
   "execution_count": null,
   "metadata": {
    "ExecuteTime": {
     "end_time": "2021-01-15T19:56:44.876596Z",
     "start_time": "2021-01-15T19:56:44.818751Z"
    }
   },
   "outputs": [],
   "source": [
    "sample = pd.read_csv('./datasets/sample_sub_reg.csv')\n",
    "train = pd.read_csv('./datasets/train.csv')\n",
    "test = pd.read_csv('./datasets/test.csv')"
   ]
  },
  {
   "cell_type": "code",
   "execution_count": null,
   "metadata": {
    "ExecuteTime": {
     "end_time": "2021-01-15T19:56:44.891556Z",
     "start_time": "2021-01-15T19:56:44.878591Z"
    }
   },
   "outputs": [],
   "source": [
    "test.isnull().sum().sort_values(ascending=False)[:20]"
   ]
  },
  {
   "cell_type": "code",
   "execution_count": null,
   "metadata": {
    "ExecuteTime": {
     "end_time": "2021-01-15T19:56:44.907513Z",
     "start_time": "2021-01-15T19:56:44.893551Z"
    }
   },
   "outputs": [],
   "source": [
    "# fixing numeric columns that are really categories\n",
    "# credit to juliencs\n",
    "# https://www.kaggle.com/juliencs/a-study-on-regression-applied-to-the-ames-dataset\n",
    "\n",
    "train = train.replace({\"MSSubClass\" : {20 : \"SC20\", 30 : \"SC30\", 40 : \"SC40\", 45 : \"SC45\", \n",
    "                                       50 : \"SC50\", 60 : \"SC60\", 70 : \"SC70\", 75 : \"SC75\", \n",
    "                                       80 : \"SC80\", 85 : \"SC85\", 90 : \"SC90\", 120 : \"SC120\", \n",
    "                                       150 : \"SC150\", 160 : \"SC160\", 180 : \"SC180\", 190 : \"SC190\"},\n",
    "                       \"MoSold\" : {1 : \"Jan\", 2 : \"Feb\", 3 : \"Mar\", 4 : \"Apr\", 5 : \"May\", 6 : \"Jun\",\n",
    "                                   7 : \"Jul\", 8 : \"Aug\", 9 : \"Sep\", 10 : \"Oct\", 11 : \"Nov\", 12 : \"Dec\"}\n",
    "                      })"
   ]
  },
  {
   "cell_type": "markdown",
   "metadata": {},
   "source": [
    "To account for the null values, I opted to fill with mean values, or mode values for the handful of columns with a very small range of possible values.\n",
    "\n",
    "Lot Frontage is the only column affected with a particularly high proportion of nulls being filled.  Given the strength of correlation between that value and sale price, I made the decision that the skewing toward the middle this would cause would compromise the data less than the skewing to the left caused by filling values of 0."
   ]
  },
  {
   "cell_type": "code",
   "execution_count": null,
   "metadata": {
    "ExecuteTime": {
     "end_time": "2021-01-15T19:56:44.923470Z",
     "start_time": "2021-01-15T19:56:44.909508Z"
    }
   },
   "outputs": [],
   "source": [
    "train['Pool QC'].fillna(value='No', inplace=True)"
   ]
  },
  {
   "cell_type": "code",
   "execution_count": null,
   "metadata": {
    "ExecuteTime": {
     "end_time": "2021-01-15T19:56:44.985305Z",
     "start_time": "2021-01-15T19:56:44.925466Z"
    }
   },
   "outputs": [],
   "source": [
    "# convert categorical to numeric values\n",
    "train['Exter Qual'] = train['Exter Qual'].map({'Ex':5,'Gd':4,'TA':3, 'Fa':2, 'Po':1, 'No':0})\n",
    "train['Exter Cond'] = train['Exter Cond'].map({'Ex':5,'Gd':4,'TA':3, 'Fa':2, 'Po':1, 'No':0})\n",
    "train['Kitchen Qual'] = train['Kitchen Qual'].map({'Ex':5,'Gd':4,'TA':3, 'Fa':2, 'Po':1, 'No':0})\n",
    "train['Garage Qual'] = train['Garage Qual'].map({'Ex':5,'Gd':4,'TA':3, 'Fa':2, 'Po':1, 'No':0})\n",
    "train['Garage Cond'] = train['Garage Cond'].map({'Ex':5,'Gd':4,'TA':3, 'Fa':2, 'Po':1, 'No':0})\n",
    "train['Bsmt Qual'] = train['Bsmt Qual'].map({'Ex':5,'Gd':4,'TA':3, 'Fa':2, 'Po':1, 'No':0})\n",
    "train['Bsmt Cond'] = train['Bsmt Cond'].map({'Ex':5,'Gd':4,'TA':3, 'Fa':2, 'Po':1, 'No':0})\n",
    "train['Heating QC'] = train['Heating QC'].map({'Ex':4,'Gd':3,'TA':2, 'Fa':1, 'Po':0})\n",
    "train['Fireplace Qu'] = train['Fireplace Qu'].map({'Ex':4,'Gd':3,'TA':2, 'Fa':1, 'Po':0})\n",
    "train['Functional'] = train['Functional'].map({\"Sal\" : 1, \"Sev\" : 2, \"Maj2\" : 3, \"Maj1\" : 4, \"Mod\": 5, \n",
    "                                       \"Min2\" : 6, \"Min1\" : 7, \"Typ\" : 8})\n",
    "train['Pool QC'] = train['Pool QC'].map({\"No\" : 0, \"Fa\" : 1, \"TA\" : 2, \"Gd\" : 3, \"Ex\" : 4})\n",
    "train['Utilities'] = train['Utilities'].map({\"ELO\" : 1, \"NoSeWa\" : 2, \"NoSewr\" : 3, \"AllPub\" : 4})\n",
    "\n",
    "test['Exter Qual'] = test['Exter Qual'].map({'Ex':5,'Gd':4,'TA':3, 'Fa':2, 'Po':1, 'No':0})\n",
    "test['Exter Cond'] = test['Exter Cond'].map({'Ex':5,'Gd':4,'TA':3, 'Fa':2, 'Po':1, 'No':0})\n",
    "test['Kitchen Qual'] = test['Kitchen Qual'].map({'Ex':5,'Gd':4,'TA':3, 'Fa':2, 'Po':1, 'No':0})\n",
    "test['Garage Qual'] = test['Garage Qual'].map({'Ex':5,'Gd':4,'TA':3, 'Fa':2, 'Po':1, 'No':0})\n",
    "test['Garage Cond'] = test['Garage Cond'].map({'Ex':5,'Gd':4,'TA':3, 'Fa':2, 'Po':1, 'No':0})\n",
    "test['Bsmt Qual'] = test['Bsmt Qual'].map({'Ex':5,'Gd':4,'TA':3, 'Fa':2, 'Po':1, 'No':0})\n",
    "test['Bsmt Cond'] = test['Bsmt Cond'].map({'Ex':5,'Gd':4,'TA':3, 'Fa':2, 'Po':1, 'No':0})\n",
    "test['Heating QC'] = test['Heating QC'].map({'Ex':4,'Gd':3,'TA':2, 'Fa':1, 'Po':0})\n",
    "test['Fireplace Qu'] = test['Fireplace Qu'].map({'Ex':4,'Gd':3,'TA':2, 'Fa':1, 'Po':0})\n",
    "test['Functional'] = test['Functional'].map({\"Sal\" : 1, \"Sev\" : 2, \"Maj2\" : 3, \"Maj1\" : 4, \"Mod\": 5, \n",
    "                                       \"Min2\" : 6, \"Min1\" : 7, \"Typ\" : 8}) \n",
    "test['Pool QC'] = test['Pool QC'].map({\"No\" : 0, \"Fa\" : 1, \"TA\" : 2, \"Gd\" : 3, \"Ex\" : 4})\n",
    "test['Utilities'] = test['Utilities'].map({\"ELO\" : 1, \"NoSeWa\" : 2, \"NoSewr\" : 3, \"AllPub\" : 4})"
   ]
  },
  {
   "cell_type": "code",
   "execution_count": null,
   "metadata": {
    "ExecuteTime": {
     "end_time": "2021-01-15T19:56:45.016223Z",
     "start_time": "2021-01-15T19:56:44.986302Z"
    },
    "scrolled": true
   },
   "outputs": [],
   "source": [
    "# Impute mean and mode for missing values\n",
    "# mode() returned correctly but wouldn't work for fillna so setting variables to work around\n",
    "bas_fullbath_mode = int(train['Bsmt Full Bath'].mode())\n",
    "bas_halfbath_mode = int(train['Bsmt Half Bath'].mode())\n",
    "garage_cars_mode = int(train['Garage Cars'].mode())\n",
    "garage_qual_mode = int(train['Garage Qual'].mean())\n",
    "garage_cond_mode = int(train['Garage Cond'].mean())\n",
    "\n",
    "train['Lot Frontage' ].fillna(value=train['Lot Frontage'].mean(), inplace=True)\n",
    "train['Mas Vnr Type'].fillna(value='None', inplace=True)\n",
    "train['Mas Vnr Area'].fillna(value=train['Mas Vnr Area'].mean(), inplace=True)\n",
    "train['Bsmt Full Bath'].fillna(value=bas_fullbath_mode, inplace=True)\n",
    "train['Bsmt Half Bath'].fillna(value=bas_halfbath_mode, inplace=True)\n",
    "train['Garage Cars'].fillna(value=garage_cars_mode, inplace=True)\n",
    "train['Garage Area'].fillna(value=train['Garage Area'].mean(), inplace=True)\n",
    "train['Garage Qual'].fillna(value=train['Garage Qual'].mean(), inplace=True)\n",
    "train['Garage Cond'].fillna(value=train['Garage Cond'].mean(), inplace=True)\n",
    "train['Bsmt Qual'].fillna(value=int(train['Bsmt Qual'].mean()), inplace=True)\n",
    "train['Bsmt Cond'].fillna(value=int(train['Bsmt Cond'].mean()), inplace=True)\n",
    "train['Bsmt Full Bath'].fillna(value=0, inplace=True)\n",
    "train['Bsmt Half Bath'].fillna(value=0, inplace=True)\n",
    "\n",
    "bas_fullbath_mode = int(test['Bsmt Full Bath'].mode())\n",
    "bas_halfbath_mode = int(test['Bsmt Half Bath'].mode())\n",
    "garage_cars_mode = int(test['Garage Cars'].mode())\n",
    "garage_qual_mode = int(test['Garage Cond'].mean())\n",
    "garage_cond_mode = int(test['Garage Cond'].mean())\n",
    "\n",
    "test['Lot Frontage' ].fillna(value=test['Lot Frontage'].mean(), inplace=True)\n",
    "test['Mas Vnr Type'].fillna(value='None', inplace=True)\n",
    "test['Mas Vnr Area'].fillna(value=test['Mas Vnr Area'].mean(), inplace=True)\n",
    "test['Bsmt Full Bath'].fillna(value=bas_fullbath_mode, inplace=True)\n",
    "test['Bsmt Half Bath'].fillna(value=bas_halfbath_mode, inplace=True)\n",
    "test['Garage Cars'].fillna(value=garage_cars_mode, inplace=True)\n",
    "test['Garage Area'].fillna(value=test['Garage Area'].mean(), inplace=True)\n",
    "test['Garage Qual'].fillna(value=test['Garage Qual'].mean(), inplace=True)\n",
    "test['Garage Cond'].fillna(value=test['Garage Cond'].mean(), inplace=True)\n",
    "test['Bsmt Qual'].fillna(value=test['Bsmt Qual'].mean(), inplace=True)\n",
    "test['Bsmt Cond'].fillna(value=test['Bsmt Cond'].mean(), inplace=True)\n",
    "test['Pool QC'].fillna(value='No', inplace=True)\n",
    "test['Bsmt Full Bath'].fillna(value=0, inplace=True)\n",
    "test['Bsmt Half Bath'].fillna(value=0, inplace=True)"
   ]
  },
  {
   "cell_type": "code",
   "execution_count": null,
   "metadata": {
    "ExecuteTime": {
     "end_time": "2021-01-15T19:56:45.046142Z",
     "start_time": "2021-01-15T19:56:45.018217Z"
    }
   },
   "outputs": [],
   "source": [
    "train['FullBaths'] = train['Full Bath'] + train['Bsmt Full Bath']\n",
    "train['HalfBaths'] = train['Half Bath'] + train['Bsmt Half Bath']\n",
    "\n",
    "test['FullBaths'] = test['Full Bath'] + test['Bsmt Full Bath']\n",
    "test['HalfBaths'] = test['Half Bath'] + test['Bsmt Half Bath']"
   ]
  },
  {
   "cell_type": "code",
   "execution_count": null,
   "metadata": {
    "ExecuteTime": {
     "end_time": "2021-01-15T19:56:45.061103Z",
     "start_time": "2021-01-15T19:56:45.047140Z"
    }
   },
   "outputs": [],
   "source": [
    "# 2* Combinations of existing features\n",
    "# credit to juliencs\n",
    "# https://www.kaggle.com/juliencs/a-study-on-regression-applied-to-the-ames-dataset\n",
    "\n",
    "# Overall quality of the house\n",
    "train[\"Overall Grade\"] = train[\"Overall Qual\"] * train[\"Overall Cond\"]\n",
    "# Overall quality of the garage\n",
    "train[\"Garage Grade\"] = train[\"Garage Qual\"] * train[\"Garage Cond\"]\n",
    "# Overall quality of the exterior\n",
    "train[\"Exter Grade\"] = train[\"Exter Qual\"] * train[\"Exter Cond\"]\n",
    "\n",
    "# Overall quality of the house\n",
    "test[\"Overall Grade\"] = test[\"Overall Qual\"] * test[\"Overall Cond\"]\n",
    "# Overall quality of the garage\n",
    "test[\"Garage Grade\"] = test[\"Garage Qual\"] * test[\"Garage Cond\"]\n",
    "# Overall quality of the exterior\n",
    "test[\"Exter Grade\"] = test[\"Exter Qual\"] * test[\"Exter Cond\"]"
   ]
  },
  {
   "cell_type": "markdown",
   "metadata": {},
   "source": [
    "# EDA and Data Preparation"
   ]
  },
  {
   "cell_type": "markdown",
   "metadata": {},
   "source": [
    "Based on the high number of nulls in some columns, I considered all these columns for dropping.  After initial EDA to establish an idea of their correllation to the target variable, I selected some to keep.\n",
    "\n",
    "Other columns were selected for dropping based on their expected relevance.  Where I was uncertain, I again tested them with initial EDA.\n",
    "\n",
    "In general, this model errs on the side of including more variables, even when their relevance is expected to be low.  It is a 'kitchen sink' model."
   ]
  },
  {
   "cell_type": "code",
   "execution_count": null,
   "metadata": {
    "ExecuteTime": {
     "end_time": "2021-01-15T19:56:45.076062Z",
     "start_time": "2021-01-15T19:56:45.063099Z"
    }
   },
   "outputs": [],
   "source": [
    "# drop columns deemed uninteresting, too noisy, or made redundant with new columns\n",
    "\n",
    "train.drop(columns=['PID', 'MS SubClass', 'MS Zoning', 'Street', 'Alley',  'Land Slope',\n",
    "                    'Condition 1', 'Condition 2', 'Roof Style', 'Roof Matl',\n",
    "                    'Bsmt Exposure', 'BsmtFin Type 1', 'BsmtFin SF 1', 'BsmtFin Type 2',\n",
    "                    'BsmtFin SF 2', 'Bsmt Unf SF', 'Total Bsmt SF', 'Heating', '1st Flr SF',\n",
    "                    '2nd Flr SF', 'Low Qual Fin SF', 'Kitchen AbvGr', 'Fireplace Qu',\n",
    "                    'Garage Type', 'Garage Yr Blt', 'Garage Finish', 'Wood Deck SF',\n",
    "                    'Open Porch SF', 'Enclosed Porch', '3Ssn Porch', 'Screen Porch', 'Fence',\n",
    "                    'Misc Feature', 'Misc Val'], inplace=True)\n",
    "\n",
    "test.drop(columns=['PID', 'MS SubClass', 'MS Zoning', 'Street', 'Alley',  'Land Slope',\n",
    "                   'Condition 1', 'Condition 2', 'Roof Style', 'Roof Matl',\n",
    "                   'Bsmt Exposure', 'BsmtFin Type 1', 'BsmtFin SF 1', 'BsmtFin Type 2',\n",
    "                   'BsmtFin SF 2', 'Bsmt Unf SF', 'Total Bsmt SF', 'Heating', '1st Flr SF',\n",
    "                   '2nd Flr SF', 'Low Qual Fin SF', 'Kitchen AbvGr', 'Fireplace Qu',\n",
    "                   'Garage Type', 'Garage Yr Blt', 'Garage Finish', 'Wood Deck SF',\n",
    "                   'Open Porch SF', 'Enclosed Porch', '3Ssn Porch', 'Screen Porch', 'Fence',\n",
    "                   'Misc Feature', 'Misc Val'], inplace=True)"
   ]
  },
  {
   "cell_type": "code",
   "execution_count": null,
   "metadata": {
    "ExecuteTime": {
     "end_time": "2021-01-15T19:56:45.091023Z",
     "start_time": "2021-01-15T19:56:45.078057Z"
    }
   },
   "outputs": [],
   "source": [
    "# columns in use:\n",
    "    \n",
    "#     'Id', 'Lot Frontage', 'Lot Area', 'Lot Shape', 'Land Contour',\n",
    "#        'Utilities', 'Lot Config', 'Neighborhood', 'Bldg Type', 'House Style',\n",
    "#        'Overall Qual', 'Overall Cond', 'Year Built', 'Year Remod/Add',\n",
    "#        'Exterior 1st', 'Exterior 2nd', 'Mas Vnr Type', 'Mas Vnr Area',\n",
    "#        'Exter Qual', 'Exter Cond', 'Foundation', 'Bsmt Qual', 'Bsmt Cond',\n",
    "#        'Heating QC', 'Central Air', 'Electrical', 'Gr Liv Area',\n",
    "#        'Bsmt Full Bath', 'Bsmt Half Bath', 'Full Bath', 'Half Bath',\n",
    "#        'Bedroom AbvGr', 'Kitchen Qual', 'TotRms AbvGrd', 'Functional',\n",
    "#        'Fireplaces', 'Garage Cars', 'Garage Area', 'Garage Qual',\n",
    "#        'Garage Cond', 'Paved Drive', 'Pool Area', 'Pool QC', 'Mo Sold',\n",
    "#        'Yr Sold', 'Sale Type', 'SalePrice', 'FullBaths', 'HalfBaths',"
   ]
  },
  {
   "cell_type": "markdown",
   "metadata": {},
   "source": [
    "As noted previously, I used initial EDA on various columns to visually assess their relevance to the target variable.  Primarily this initial EDA was done with the scatter plot below."
   ]
  },
  {
   "cell_type": "code",
   "execution_count": null,
   "metadata": {
    "ExecuteTime": {
     "end_time": "2021-01-15T19:56:45.898652Z",
     "start_time": "2021-01-15T19:56:45.728074Z"
    }
   },
   "outputs": [],
   "source": [
    "plt.style.use('dark_background')\n",
    "plt.figure(figsize=(11,6))\n",
    "plt.scatter(train['TotRms AbvGrd'], train['SalePrice'], s = 1)\n",
    "plt.axhline(train['SalePrice'].mean(), color = 'orange')\n",
    "plt.xlabel('Total Rooms (Above Ground)')\n",
    "plt.ylabel('Sale Price')\n",
    "plt.xlim(0,15)\n",
    "plt.ylim(0,500000);"
   ]
  },
  {
   "cell_type": "code",
   "execution_count": null,
   "metadata": {
    "ExecuteTime": {
     "end_time": "2021-01-15T19:56:46.101115Z",
     "start_time": "2021-01-15T19:56:46.084162Z"
    }
   },
   "outputs": [],
   "source": [
    "# Find most important features relative to target\n",
    "# credit to juliencs\n",
    "# https://www.kaggle.com/juliencs/a-study-on-regression-applied-to-the-ames-dataset\n",
    "\n",
    "print(\"Find most important features relative to target\")\n",
    "corr = train.corr()\n",
    "corr.sort_values([\"SalePrice\"], ascending = False, inplace = True)\n",
    "print(corr.SalePrice)"
   ]
  },
  {
   "cell_type": "markdown",
   "metadata": {},
   "source": [
    "# Modeling Preparation"
   ]
  },
  {
   "cell_type": "code",
   "execution_count": null,
   "metadata": {
    "ExecuteTime": {
     "end_time": "2021-01-15T19:56:49.893030Z",
     "start_time": "2021-01-15T19:56:49.881064Z"
    }
   },
   "outputs": [],
   "source": [
    "lr = LinearRegression()"
   ]
  },
  {
   "cell_type": "markdown",
   "metadata": {},
   "source": [
    "In order to use the several categorical columns involved, coversion to numeric values was necessary.  For most, I applied pd.get_dummies to create columns indicating 0 / 1 for the lack or presence of a feature."
   ]
  },
  {
   "cell_type": "code",
   "execution_count": null,
   "metadata": {
    "ExecuteTime": {
     "end_time": "2021-01-15T19:56:50.377766Z",
     "start_time": "2021-01-15T19:56:50.340833Z"
    }
   },
   "outputs": [],
   "source": [
    "# dummify categories \n",
    "# Lot Shape          object\n",
    "# Land Contour       object\n",
    "# Lot Config         object\n",
    "# Neighborhood       object\n",
    "# Bldg Type          object\n",
    "# House Style        object\n",
    "    \n",
    "dumcols = ['Lot Shape', 'Electrical', 'Land Contour', 'Lot Config', 'Neighborhood', 'Bldg Type',\n",
    "           'House Style', 'Exterior 1st', 'Exterior 2nd', 'Mas Vnr Type', 'Foundation',\n",
    "           'Central Air', 'Paved Drive', 'Sale Type']\n",
    "\n",
    "train = pd.get_dummies(data=train, columns=dumcols, drop_first=True)\n",
    "\n",
    "test = pd.get_dummies(data=test, columns=dumcols, drop_first=True)\n",
    "\n",
    "\n",
    "# pd.get_dummies(data = train,\n",
    "#                columns = ['Lot Shape', 'Land Contour', 'Lot Config',\n",
    "#                          'Neighborhood', 'Bldg Type', 'House Style'],\n",
    "#               drop_first = True)"
   ]
  },
  {
   "cell_type": "markdown",
   "metadata": {},
   "source": [
    "A few categorical columns lent themselves to a more detailed numeric value.  I converted the ratings of \"Excellent\", \"Good\", \"Typical/Average\", \"Fair\", and \"Poor\" to a scale from 0-4 with 4 being highest."
   ]
  },
  {
   "cell_type": "markdown",
   "metadata": {},
   "source": [
    "My initial model was created with 115 total features."
   ]
  },
  {
   "cell_type": "code",
   "execution_count": null,
   "metadata": {
    "ExecuteTime": {
     "end_time": "2021-01-15T19:56:51.190671Z",
     "start_time": "2021-01-15T19:56:51.178690Z"
    }
   },
   "outputs": [],
   "source": [
    "X = train[['Id', 'Lot Frontage', 'Lot Area', 'Utilities', 'Overall Qual', 'Overall Cond',\n",
    "           'Year Built', 'Year Remod/Add', 'Mas Vnr Area', 'Exter Qual', 'Exter Cond',\n",
    "           'Bsmt Qual', 'Bsmt Cond', 'Heating QC', 'Electrical_FuseF', 'Electrical_FuseP',\n",
    "           'Electrical_Mix', 'Electrical_SBrkr', 'Gr Liv Area', 'Bsmt Full Bath',\n",
    "           'Bsmt Half Bath', 'Full Bath', 'Half Bath', 'Bedroom AbvGr', 'Kitchen Qual',\n",
    "           'TotRms AbvGrd', 'Functional', 'Fireplaces', 'Garage Cars', 'Garage Area',\n",
    "           'Garage Qual', 'Garage Cond', 'Pool Area', 'Pool QC', 'Mo Sold', 'Yr Sold',\n",
    "           'FullBaths', 'HalfBaths', 'Lot Shape_IR2', 'Lot Shape_IR3',\n",
    "           'Lot Shape_Reg', 'Land Contour_HLS', 'Land Contour_Low', 'Land Contour_Lvl',\n",
    "           'Lot Config_CulDSac', 'Lot Config_FR2', 'Lot Config_FR3', 'Lot Config_Inside',\n",
    "           'Neighborhood_Blueste', 'Neighborhood_BrDale', 'Neighborhood_BrkSide',\n",
    "           'Neighborhood_ClearCr', 'Neighborhood_CollgCr', 'Neighborhood_Crawfor',\n",
    "           'Neighborhood_Edwards', 'Neighborhood_Gilbert', 'Neighborhood_Greens',\n",
    "           'Neighborhood_GrnHill', 'Neighborhood_IDOTRR', 'Neighborhood_Landmrk',\n",
    "           'Neighborhood_MeadowV', 'Neighborhood_Mitchel', 'Neighborhood_NAmes',\n",
    "           'Neighborhood_NPkVill', 'Neighborhood_NWAmes', 'Neighborhood_NoRidge',\n",
    "           'Neighborhood_NridgHt', 'Neighborhood_OldTown', 'Neighborhood_SWISU',\n",
    "           'Neighborhood_Sawyer', 'Neighborhood_SawyerW', 'Neighborhood_Somerst',\n",
    "           'Neighborhood_StoneBr', 'Neighborhood_Timber', 'Neighborhood_Veenker',\n",
    "           'Bldg Type_2fmCon', 'Bldg Type_Duplex', 'Bldg Type_Twnhs', 'Bldg Type_TwnhsE',\n",
    "           'House Style_1.5Unf', 'House Style_1Story', 'House Style_2.5Fin', 'House Style_2.5Unf',\n",
    "           'House Style_2Story', 'House Style_SFoyer', 'House Style_SLvl', 'Exterior 1st_AsphShn',\n",
    "           'Exterior 1st_BrkComm', 'Exterior 1st_BrkFace', 'Exterior 1st_CBlock',\n",
    "           'Exterior 1st_CemntBd', 'Exterior 1st_HdBoard', 'Exterior 1st_ImStucc',\n",
    "           'Exterior 1st_MetalSd', 'Exterior 1st_Plywood', 'Exterior 1st_Stone',\n",
    "           'Exterior 1st_Stucco', 'Exterior 1st_VinylSd', 'Exterior 1st_Wd Sdng',\n",
    "           'Exterior 1st_WdShing', 'Exterior 2nd_AsphShn', 'Exterior 2nd_Brk Cmn',\n",
    "           'Exterior 2nd_BrkFace', 'Exterior 2nd_CBlock', 'Exterior 2nd_CmentBd',\n",
    "           'Exterior 2nd_HdBoard', 'Exterior 2nd_ImStucc', 'Exterior 2nd_MetalSd',\n",
    "           'Exterior 2nd_Plywood', 'Exterior 2nd_Stone', 'Exterior 2nd_Stucco',\n",
    "           'Exterior 2nd_VinylSd', 'Exterior 2nd_Wd Sdng', 'Exterior 2nd_Wd Shng',\n",
    "           'Mas Vnr Type_BrkFace', 'Mas Vnr Type_None', 'Mas Vnr Type_Stone',\n",
    "           'Foundation_CBlock', 'Foundation_PConc', 'Foundation_Slab', 'Foundation_Stone',\n",
    "           'Foundation_Wood', 'Central Air_Y', 'Paved Drive_P', 'Paved Drive_Y',\n",
    "           'Sale Type_CWD', 'Sale Type_Con', 'Sale Type_ConLD', 'Sale Type_ConLI',\n",
    "           'Sale Type_ConLw', 'Sale Type_New', 'Sale Type_Oth', 'Sale Type_WD ',\n",
    "           'Overall Grade', 'Garage Grade', 'Exter Grade']]\n",
    "y = train['SalePrice']"
   ]
  },
  {
   "cell_type": "markdown",
   "metadata": {},
   "source": [
    "I used the train_test_split function for the dataset, with a random state of 42 and default test size (0.25)."
   ]
  },
  {
   "cell_type": "code",
   "execution_count": null,
   "metadata": {
    "ExecuteTime": {
     "end_time": "2021-01-15T19:56:52.082785Z",
     "start_time": "2021-01-15T19:56:52.063584Z"
    }
   },
   "outputs": [],
   "source": [
    "X_train, X_test, y_train, y_test = train_test_split(X,y, random_state = 42)"
   ]
  },
  {
   "cell_type": "markdown",
   "metadata": {},
   "source": [
    "# Modeling"
   ]
  },
  {
   "cell_type": "markdown",
   "metadata": {},
   "source": [
    "The data was modeled using a Linear Regression metric."
   ]
  },
  {
   "cell_type": "code",
   "execution_count": null,
   "metadata": {
    "ExecuteTime": {
     "end_time": "2021-01-15T19:56:52.970056Z",
     "start_time": "2021-01-15T19:56:52.949113Z"
    }
   },
   "outputs": [],
   "source": [
    "lr.fit(X_train, y_train)"
   ]
  },
  {
   "cell_type": "markdown",
   "metadata": {},
   "source": [
    "# Model Results"
   ]
  },
  {
   "cell_type": "markdown",
   "metadata": {},
   "source": [
    "The model achieved an R2 score of .874 on the training data, and .876 on testing data."
   ]
  },
  {
   "cell_type": "code",
   "execution_count": null,
   "metadata": {
    "ExecuteTime": {
     "end_time": "2021-01-15T19:56:55.162370Z",
     "start_time": "2021-01-15T19:56:55.153393Z"
    }
   },
   "outputs": [],
   "source": [
    "lr.score(X_train, y_train)"
   ]
  },
  {
   "cell_type": "code",
   "execution_count": null,
   "metadata": {
    "ExecuteTime": {
     "end_time": "2021-01-15T19:56:55.330918Z",
     "start_time": "2021-01-15T19:56:55.316956Z"
    }
   },
   "outputs": [],
   "source": [
    "lr.score(X_test, y_test)"
   ]
  },
  {
   "cell_type": "markdown",
   "metadata": {},
   "source": [
    "Cross validation results were within .04 of the original R2 score, with one notable exception, differing by approximately .125.  My ultimate goal was an average range less than .05 between tests, so I was content with this for an initial model but hope to improve on it with future iterations."
   ]
  },
  {
   "cell_type": "code",
   "execution_count": null,
   "metadata": {
    "ExecuteTime": {
     "end_time": "2021-01-15T19:56:57.516211Z",
     "start_time": "2021-01-15T19:56:57.430441Z"
    }
   },
   "outputs": [],
   "source": [
    "cross_val_score(lr, X_train, y_train, cv = 5)"
   ]
  },
  {
   "cell_type": "code",
   "execution_count": null,
   "metadata": {
    "ExecuteTime": {
     "end_time": "2021-01-15T19:56:58.070727Z",
     "start_time": "2021-01-15T19:56:58.011886Z"
    }
   },
   "outputs": [],
   "source": [
    "cross_val_score(lr, X_test, y_test, cv = 5)"
   ]
  },
  {
   "cell_type": "code",
   "execution_count": null,
   "metadata": {
    "ExecuteTime": {
     "end_time": "2021-01-15T19:56:58.714883Z",
     "start_time": "2021-01-15T19:56:58.695911Z"
    }
   },
   "outputs": [],
   "source": [
    "preds = lr.predict(X_test)"
   ]
  },
  {
   "cell_type": "code",
   "execution_count": null,
   "metadata": {
    "ExecuteTime": {
     "end_time": "2021-01-15T19:57:00.005581Z",
     "start_time": "2021-01-15T19:56:59.990621Z"
    }
   },
   "outputs": [],
   "source": [
    "np.sqrt(mean_squared_error(y_test, preds))"
   ]
  },
  {
   "cell_type": "markdown",
   "metadata": {},
   "source": [
    "# Conclusions and Recommendations"
   ]
  },
  {
   "cell_type": "markdown",
   "metadata": {},
   "source": [
    "Conclusions: There is a lot to say here, but I'll try to distill key points.  \n",
    "* Contract sales with 15% down and regular terms closed at a whopping \\$43,731 above the mean, holding all else equal.  \n",
    "* Low down payment, low interest contract sales were also notable, at \\$30,670 above, holding all else equal.\n",
    "* 2.5 story finished buildings sold at markedly higher prices than other types, at \\$62,690 above.  No other type even came close to such a large difference from the mean.\n",
    "* Hard material exteriors are a strong indicator of sale price.  Brick Face (NOT Common) and Stone primary exteriors showed sale prices of \\\\$20,254 and \\\\$19,291 above the mean, holding all else equal.  Cement Board was an even more pronounced indicator, at \\$42,697.\n",
    "* Each car the garage holds can be expected to increase sale price by \\$6,113.81, holding all else equal.\n",
    "* Neighborhood may be the influence on sale price of all.  In descending order, Green Hill, Stonebridge, and Northridge Heights properties closed at the highest prices relative to other factors, reaching nearly \\$100,000 for properties in Green Hill.\n",
    "* Most neighborhoods had a much less significant impact on final price, but Edwards and Old Town were among the worst, both at approximately \\$30,000 below mean, holding all else equal.\n",
    "* Holding all else equal, properties yield approximately $77.20 dollars less for each year elapsed since construction.\n",
    "* Renovations, interestingly, had a greater impact on overall sale price, at \\$131.97 per year.\n",
    "\n",
    "Recommendations:  \n",
    "\n",
    "* Acquire properties in less desirable neighborhoods as long term investments.\n",
    "* Focus on contract sales and new construction sales.  Cash sales are expected to yield lower final prices.\n",
    "* Finished, larger dwellings add a great deal of value.  Investment in a little bit of work and furnishing can yield considerable profits on the final sale."
   ]
  },
  {
   "cell_type": "code",
   "execution_count": null,
   "metadata": {
    "ExecuteTime": {
     "end_time": "2021-01-15T19:57:01.637112Z",
     "start_time": "2021-01-15T19:57:01.618164Z"
    }
   },
   "outputs": [],
   "source": [
    "set(zip(X.columns, lr.coef_))"
   ]
  },
  {
   "cell_type": "code",
   "execution_count": null,
   "metadata": {
    "ExecuteTime": {
     "end_time": "2021-01-15T19:57:02.220554Z",
     "start_time": "2021-01-15T19:57:01.988174Z"
    }
   },
   "outputs": [],
   "source": [
    "plt.figure(figsize = (13, 8))\n",
    "sns.regplot('Yr Sold', 'SalePrice', train, ci=None, \n",
    "            scatter_kws = {'s': 5}, \n",
    "            line_kws = {'color': 'orange'},\n",
    "            x_jitter=0.3)\n",
    "plt.axhline(train['SalePrice'].mean(), color = 'orange')\n",
    "plt.xlabel('Year Sold')\n",
    "plt.ylabel('Sale Price')\n",
    "plt.ylim(0, 500000)\n",
    "plt.xticks([2005, 2006, 2007, 2008, 2009, 2010, 2011])\n",
    "plt.title('Overview of Sales, 2006-2010');"
   ]
  },
  {
   "cell_type": "code",
   "execution_count": null,
   "metadata": {
    "ExecuteTime": {
     "end_time": "2021-01-15T19:57:03.764453Z",
     "start_time": "2021-01-15T19:57:03.555013Z"
    }
   },
   "outputs": [],
   "source": [
    "plt.figure(figsize = (12, 7))\n",
    "sns.regplot('TotRms AbvGrd', 'SalePrice', train, ci=None, \n",
    "            scatter_kws = {'s': 5}, \n",
    "            line_kws = {'color': 'orange'},\n",
    "            x_jitter=0.3)\n",
    "plt.axhline(train['SalePrice'].mean(), color = 'grey')\n",
    "plt.xlabel('Number of Rooms')\n",
    "plt.ylabel('Sale Price')\n",
    "plt.xlim(2,12)\n",
    "plt.title('Mean in grey, OLS regression in orange');"
   ]
  },
  {
   "cell_type": "code",
   "execution_count": null,
   "metadata": {
    "ExecuteTime": {
     "end_time": "2021-01-15T19:57:04.224227Z",
     "start_time": "2021-01-15T19:57:03.766447Z"
    }
   },
   "outputs": [],
   "source": [
    "plt.figure(figsize = (13, 8))\n",
    "sns.histplot(data = train, x='Overall Qual',\n",
    "             y = 'SalePrice',\n",
    "             hue = 'Yr Sold',\n",
    "             palette=[\"red\", \"orange\", \"yellow\", \"green\", \"blue\"]\n",
    "            )\n",
    "plt.axhline(train['SalePrice'].mean(), color = 'grey')\n",
    "plt.xlabel('Overall Quality')\n",
    "plt.ylabel('Sale Price')\n",
    "plt.title('Quality of Homes Sold, 2006-2010');"
   ]
  },
  {
   "cell_type": "markdown",
   "metadata": {},
   "source": [
    "# Kaggle Submission"
   ]
  },
  {
   "cell_type": "code",
   "execution_count": null,
   "metadata": {
    "ExecuteTime": {
     "end_time": "2021-01-15T19:57:31.626316Z",
     "start_time": "2021-01-15T19:57:31.605340Z"
    }
   },
   "outputs": [],
   "source": [
    "test.dtypes"
   ]
  },
  {
   "cell_type": "code",
   "execution_count": null,
   "metadata": {
    "ExecuteTime": {
     "end_time": "2021-01-15T19:57:12.917169Z",
     "start_time": "2021-01-15T19:57:12.906199Z"
    }
   },
   "outputs": [],
   "source": [
    "# add missing columns to test\n",
    "# not dummified earlier because no positives in test set\n",
    "test['Neighborhood_GrnHill'] = 0 \n",
    "test['Neighborhood_Landmrk'] = 0 \n",
    "test['Exterior 1st_CBlock'] = 0\n",
    "test['Exterior 1st_ImStucc'] = 0\n",
    "test['Exterior 1st_Stone'] = 0\n",
    "test['Exterior 2nd_Stone'] = 0\n",
    "test['Electrical_Mix'] = 0\n"
   ]
  },
  {
   "cell_type": "code",
   "execution_count": null,
   "metadata": {
    "ExecuteTime": {
     "end_time": "2021-01-15T19:45:29.488698Z",
     "start_time": "2021-01-15T19:45:29.169136Z"
    }
   },
   "outputs": [],
   "source": [
    "X_kaggle = test[['Lot Frontage', 'Lot Area', 'Overall Qual', 'Year Built', 'Year Remod/Add', \n",
    "           'Mas Vnr Area', 'Exter Cond', 'Heating QC', 'Gr Liv Area', 'Bsmt Full Bath',\n",
    "           'Bsmt Half Bath', 'Full Bath', 'Half Bath', 'Kitchen Qual', 'TotRms AbvGrd',\n",
    "           'Fireplaces', 'Garage Cars', 'Garage Area', 'Mo Sold', 'Yr Sold', 'Lot Shape_IR2',\n",
    "           'Lot Shape_IR3', 'Lot Shape_Reg', 'Land Contour_HLS', \n",
    "           'Land Contour_Low', 'Land Contour_Lvl', 'Lot Config_CulDSac', 'Lot Config_FR2',\n",
    "           'Lot Config_FR3', 'Lot Config_Inside', 'Neighborhood_Blueste', 'Neighborhood_BrDale',\n",
    "           'Neighborhood_BrkSide', 'Neighborhood_ClearCr', 'Neighborhood_CollgCr',\n",
    "           'Neighborhood_Crawfor', 'Neighborhood_Edwards', 'Neighborhood_Gilbert', \n",
    "           'Neighborhood_Greens', 'Neighborhood_GrnHill', 'Neighborhood_IDOTRR', \n",
    "           'Neighborhood_Landmrk', 'Neighborhood_MeadowV', 'Neighborhood_Mitchel', \n",
    "           'Neighborhood_NAmes', 'Neighborhood_NPkVill', 'Neighborhood_NWAmes', \n",
    "           'Neighborhood_NoRidge', 'Neighborhood_NridgHt', 'Neighborhood_OldTown', \n",
    "           'Neighborhood_SWISU', 'Neighborhood_Sawyer', 'Neighborhood_SawyerW', \n",
    "           'Neighborhood_Somerst', 'Neighborhood_StoneBr', 'Neighborhood_Timber', \n",
    "           'Neighborhood_Veenker', 'Bldg Type_2fmCon', 'Bldg Type_Duplex', 'Bldg Type_Twnhs', \n",
    "           'Bldg Type_TwnhsE', 'House Style_1.5Unf', 'House Style_1Story', 'House Style_2.5Fin',\n",
    "           'House Style_2.5Unf', 'House Style_2Story', 'House Style_SFoyer', 'House Style_SLvl', \n",
    "           'Exterior 1st_AsphShn', 'Exterior 1st_BrkComm', 'Exterior 1st_BrkFace', \n",
    "           'Exterior 1st_CBlock', 'Exterior 1st_CemntBd', 'Exterior 1st_HdBoard', \n",
    "           'Exterior 1st_ImStucc', 'Exterior 1st_MetalSd', 'Exterior 1st_Plywood', \n",
    "           'Exterior 1st_Stone', 'Exterior 1st_Stucco', 'Exterior 1st_VinylSd', 'Exterior 1st_Wd Sdng',\n",
    "           'Exterior 1st_WdShing', 'Exterior 2nd_AsphShn', 'Exterior 2nd_Brk Cmn', \n",
    "           'Exterior 2nd_BrkFace', 'Exterior 2nd_CBlock', 'Exterior 2nd_CmentBd', \n",
    "           'Exterior 2nd_HdBoard', 'Exterior 2nd_ImStucc', 'Exterior 2nd_MetalSd', \n",
    "           'Exterior 2nd_Plywood', 'Exterior 2nd_Stone', 'Exterior 2nd_Stucco', \n",
    "           'Exterior 2nd_VinylSd', 'Exterior 2nd_Wd Sdng', 'Exterior 2nd_Wd Shng', \n",
    "           'Mas Vnr Type_BrkFace', 'Mas Vnr Type_None', 'Mas Vnr Type_Stone', 'Foundation_CBlock', \n",
    "           'Foundation_PConc', 'Foundation_Slab', 'Foundation_Stone', 'Foundation_Wood', \n",
    "           'Central Air_Y', 'Paved Drive_P', 'Paved Drive_Y', 'Sale Type_CWD', 'Sale Type_Con', \n",
    "           'Sale Type_ConLD', 'Sale Type_ConLI', 'Sale Type_ConLw', 'Sale Type_New', \n",
    "           'Sale Type_Oth', 'Sale Type_WD ']]\n",
    "\n",
    "kaggle_predictions = lr.predict(X_kaggle)\n",
    "kaggle_submission = pd.DataFrame()\n",
    "\n",
    "kaggle_submission['Id'] = test['Id']\n",
    "kaggle_submission['SalePrice'] = kaggle_predictions"
   ]
  },
  {
   "cell_type": "code",
   "execution_count": null,
   "metadata": {
    "ExecuteTime": {
     "end_time": "2021-01-15T16:54:18.052923Z",
     "start_time": "2021-01-15T16:54:18.042949Z"
    }
   },
   "outputs": [],
   "source": [
    "kaggle_submission.head()"
   ]
  },
  {
   "cell_type": "code",
   "execution_count": null,
   "metadata": {
    "ExecuteTime": {
     "end_time": "2021-01-15T16:54:18.569815Z",
     "start_time": "2021-01-15T16:54:18.554823Z"
    }
   },
   "outputs": [],
   "source": [
    "kaggle_submission.shape, test.shape"
   ]
  },
  {
   "cell_type": "code",
   "execution_count": null,
   "metadata": {
    "ExecuteTime": {
     "end_time": "2021-01-15T16:54:18.925396Z",
     "start_time": "2021-01-15T16:54:18.903440Z"
    }
   },
   "outputs": [],
   "source": [
    "kaggle_submission.to_csv('./datasets/kaggle_submission_03.csv', index=False)"
   ]
  }
 ],
 "metadata": {
  "kernelspec": {
   "display_name": "Python 3",
   "language": "python",
   "name": "python3"
  },
  "language_info": {
   "codemirror_mode": {
    "name": "ipython",
    "version": 3
   },
   "file_extension": ".py",
   "mimetype": "text/x-python",
   "name": "python",
   "nbconvert_exporter": "python",
   "pygments_lexer": "ipython3",
   "version": "3.8.5"
  }
 },
 "nbformat": 4,
 "nbformat_minor": 4
}
